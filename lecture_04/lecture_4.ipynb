{
 "cells": [
  {
   "cell_type": "markdown",
   "metadata": {
    "slideshow": {
     "slide_type": "notes"
    }
   },
   "source": [
    "# Introduction to Python - Lecture 04 (15 October 2018)\n",
    "## Story so far...\n",
    "+ primitive python objects / data-types and operations (numbers, strings)\n",
    "+ logical / boolean operators\n",
    "+ variables and variable naming conventions (pep8, reserved keywords)\n",
    "+ expressions and simple statements (assignment)\n",
    "+ misc (user input, comments, mutability, terminology; git: branching etc.; atom, jupyter notebooks)\n",
    "+ Compound statements: if/else conditionals\n",
    "+ Some common patterns of usage\n",
    "<br />\n",
    "\n",
    "\n",
    "# Sequential Types and Iteration:\n",
    "+ Introduce composite objects types (data structures) -> way to organize data for processing\n",
    "    + lists  \n",
    "<br />\n",
    "+ Iteration (repetitive execution) - another form of program control flow  \n",
    "<br />"
   ]
  },
  {
   "cell_type": "markdown",
   "metadata": {},
   "source": [
    "# Sequential Data Types\n",
    "\n",
    "It is often necessary to group information together. This is the function of sequential data types.\n",
    "The primary difference between different sequential types is how data is accessed and stored.\n",
    "\n",
    "## Strings\n",
    "\n",
    "+ Strings are sequences of characters.\n",
    "+ Each character in a string is assigned a specific index.\n",
    "  + The first index is always **0**\n",
    "  + This always corresponds to the leftmost character\n",
    "  + Each subsequent character will have an index one greater than the previous index.\n",
    " \n",
    "Eg:\n",
    "\n",
    "\n",
    "String: 'ABCDEF'\n",
    "\n",
    "|String|A|B|C|D|E|F|\n",
    "|------|-|-|-|-|-|-|\n",
    "|Index |0|1|2|3|4|5|\n",
    "\n",
    "Each character can be accessed using the relavant index placed in square brackets [] after the string.\n",
    "\n",
    "```python\n",
    "'ABCDEF'[index]\n",
    "```"
   ]
  },
  {
   "cell_type": "code",
   "execution_count": null,
   "metadata": {},
   "outputs": [],
   "source": [
    "'ABCDEF'[0]"
   ]
  },
  {
   "cell_type": "markdown",
   "metadata": {},
   "source": [
    "Accessing a subset of the string is similar.\n",
    "\n",
    "Instead of using a single index within the square brackets a start and end index are provided.\n",
    "\n",
    "```python\n",
    "'ABCDEF'[start_index:end_index]\n",
    "```\n",
    "\n",
    "The character at the end index is not included."
   ]
  },
  {
   "cell_type": "code",
   "execution_count": null,
   "metadata": {},
   "outputs": [],
   "source": [
    "'ABCDEF'[0:6]"
   ]
  },
  {
   "cell_type": "markdown",
   "metadata": {},
   "source": [
    "Leaving either the start or end blank will result in the first or last index being used repectively.\n",
    "\n",
    "```python\n",
    "'ABCDEF'[start:]\n",
    "'ABCDEF'[:end]\n",
    "```"
   ]
  },
  {
   "cell_type": "code",
   "execution_count": null,
   "metadata": {},
   "outputs": [],
   "source": [
    "'ABCDEF'[0:]"
   ]
  },
  {
   "cell_type": "markdown",
   "metadata": {},
   "source": [
    "#### Practice"
   ]
  },
  {
   "cell_type": "code",
   "execution_count": null,
   "metadata": {},
   "outputs": [],
   "source": [
    "# Print B\n",
    "\n",
    "sequence = 'ABCDEF'\n",
    "subseq = sequence[]\n",
    "print(subseq)"
   ]
  },
  {
   "cell_type": "code",
   "execution_count": null,
   "metadata": {},
   "outputs": [],
   "source": [
    "# Print E\n",
    "\n",
    "sequence = 'ABCDEF'\n",
    "subseq = sequence[]\n",
    "print(subseq)"
   ]
  },
  {
   "cell_type": "code",
   "execution_count": null,
   "metadata": {},
   "outputs": [],
   "source": [
    "# Print CD\n",
    "\n",
    "sequence = 'ABCDEF'\n",
    "subseq = sequence[]\n",
    "print(subseq)"
   ]
  },
  {
   "cell_type": "code",
   "execution_count": null,
   "metadata": {},
   "outputs": [],
   "source": [
    "# Print ABC\n",
    "\n",
    "sequence = 'ABCDEF'\n",
    "subseq = sequence[]\n",
    "print(subseq)"
   ]
  },
  {
   "cell_type": "code",
   "execution_count": null,
   "metadata": {},
   "outputs": [],
   "source": [
    "# Print DEF\n",
    "\n",
    "sequence = 'ABCDEF'\n",
    "subseq = sequence[]\n",
    "print(subseq)"
   ]
  },
  {
   "cell_type": "markdown",
   "metadata": {
    "collapsed": true
   },
   "source": [
    "# Lists\n",
    "\n",
    "+ Another sequence data type (like strings), that stores sequence of objects. For ex.\n",
    "    ```python\n",
    "    [1, 2, 3, 4, 5]\n",
    "    ```\n",
    "+ More generic - elements / items / components can be of **any type**, including **mixed**.  \n",
    "    ```python\n",
    "    [1, 2, 'a', [3, 4]]\n",
    "    ```\n",
    "+ Some examples from real world:\n",
    "    - List of employees in a company\n",
    "    - List of genes associated with a disease\n",
    "    - List of book recommendations for a user\n",
    "    - List of items in an order basket  \n",
    "<br />\n",
    "+ **Key characteristics**\n",
    "    - Elements have position and order (**ordered collection**)\n",
    "    - Elements can be heterogeneous (**arbitrarily typed**)  \n",
    "    - Lists can expand or contract dynamically\n",
    "    - can be single- or multi-dimensional\n",
    "<br />"
   ]
  },
  {
   "cell_type": "markdown",
   "metadata": {},
   "source": [
    "# Common List operations:\n",
    "    - Create\n",
    "    - Access elements or chunks\n",
    "    - Modify elements or chunks\n",
    "    - Check membership of an element\n",
    "    - Find position / index of a specific element\n",
    "    - Traverse through the list and do something\n",
    "    - Make it bigger / smaller (add and remove elements)\n",
    "    - Sort / reverse\n",
    "    - ...  \n",
    "\n",
    "```python\n",
    "help(list)\n",
    "help(list.index)\n",
    "```\n",
    "\n",
    "+ Some generic operations\n",
    "    - len(x), sum(x), max(x), etc.  \n",
    "<br />\n",
    "+ User-defined operations (will be covered later)"
   ]
  },
  {
   "cell_type": "code",
   "execution_count": null,
   "metadata": {},
   "outputs": [],
   "source": []
  },
  {
   "cell_type": "code",
   "execution_count": null,
   "metadata": {},
   "outputs": [],
   "source": []
  },
  {
   "cell_type": "markdown",
   "metadata": {},
   "source": [
    "# Lists: Create\n",
    "\n",
    "\n",
    "```python\n",
    "x = [1,2,3,4,5]\t\t    # direct assignment\n",
    "y = [1, 'a', [1,2,3]]\n",
    "z = []                     # creates an empty list\n",
    "\n",
    "print(type(x), x)\n",
    "print(type(y), y)\n",
    "\n",
    "# build it incrementally (see below)\n",
    "\n",
    "# More advanced: List comprehensions (chk out for a potential lightning talk...)\n",
    "```"
   ]
  },
  {
   "cell_type": "code",
   "execution_count": null,
   "metadata": {},
   "outputs": [],
   "source": []
  },
  {
   "cell_type": "markdown",
   "metadata": {},
   "source": [
    "# Lists: Access and Modify\n",
    "+ All sequences (lists, strings, ...) support two basic access operations:\n",
    "    - Indexing\n",
    "    - Slicing\n",
    "```python\n",
    "vowels = ['a', 'e', 'i', 'o', 'u']\n",
    "print(vowels[0]) # indexing starts with '0'\n",
    "print(vowels[1])\n",
    "print(vowels[-1]) # negative indices go backwards\n",
    "print(vowels[10]) # out of range raises IndexError: You're responsible to respect list length\n",
    "print(vowels[1:3]) # slicing syntax: [start_idx : stop_idx[ : step_size]]; excludes stop_idx; \n",
    "print(vowels[::2])  # step_size is optional\n",
    "print(vowels[::-1])  # what does this do?\n",
    "```\n",
    "\n",
    "+ Indices are like mappings\n"
   ]
  },
  {
   "cell_type": "code",
   "execution_count": null,
   "metadata": {},
   "outputs": [],
   "source": []
  },
  {
   "cell_type": "markdown",
   "metadata": {},
   "source": [
    "# Lists are mutable (unlike strings)\n",
    "\n",
    "```python\n",
    "vowels = ['a', 'e', 'i', 'o', 'u']\n",
    "print(id(vowels), vowels)\n",
    "vowels[0] = 'A'\n",
    "vowels[1:3] = ['E', 'I']    # slice reassignment\n",
    "print(id(vowels), vowels)\n",
    "```"
   ]
  },
  {
   "cell_type": "code",
   "execution_count": null,
   "metadata": {},
   "outputs": [],
   "source": []
  },
  {
   "cell_type": "markdown",
   "metadata": {},
   "source": [
    "# Lists: Membership\n",
    "+ <font color='blue'>**in**</font> operator, similar to string type\n",
    "\n",
    "```python\n",
    "x = [1,2,3,4,5]\n",
    "print(1 in x)      # boolean expression: evaluates to True/False\n",
    "print(10 not in x) \n",
    "```"
   ]
  },
  {
   "cell_type": "code",
   "execution_count": null,
   "metadata": {},
   "outputs": [],
   "source": []
  },
  {
   "cell_type": "markdown",
   "metadata": {},
   "source": [
    "# Lists: index of a specific element\n",
    "```python\n",
    "x = [1, 2, 3, 4, 5]\n",
    "print(x.index(3))\n",
    "print(x.index(7))          # ValueError exception\n",
    "```"
   ]
  },
  {
   "cell_type": "code",
   "execution_count": null,
   "metadata": {},
   "outputs": [],
   "source": []
  },
  {
   "cell_type": "markdown",
   "metadata": {},
   "source": [
    "# Lists: Add / remove elements\n",
    "\n",
    "```python\n",
    "x = [1,2,3,4,5]\n",
    "x.append(10)\n",
    "print(x)\n",
    "x.pop()\n",
    "print(x)\n",
    "x.pop(2)\n",
    "print(x)\n",
    "x.extend([11,12,13,14,15])     # or x + [11,12,13,14,15]\n",
    "print(x)\n",
    "```"
   ]
  },
  {
   "cell_type": "code",
   "execution_count": null,
   "metadata": {},
   "outputs": [],
   "source": []
  },
  {
   "cell_type": "markdown",
   "metadata": {},
   "source": [
    "# Lists: Re-ordering\n",
    "```python\n",
    "x = [3,5,2,7,1,6,4]\n",
    "print(x)\n",
    "x.sort()\n",
    "print(x)\n",
    "x.reverse()\n",
    "print(x)\n",
    "```"
   ]
  },
  {
   "cell_type": "code",
   "execution_count": null,
   "metadata": {},
   "outputs": [],
   "source": []
  },
  {
   "cell_type": "markdown",
   "metadata": {},
   "source": [
    "# Iteration: Repetitively apply some logic\n",
    "### Common patterns:\n",
    "+ Do **something** to/for each item in a sequence (ex. random patient assignment)\n",
    "+ Repeat **something _n_** times (ex. snooze)\n",
    "+ Repeat **something** as long as some condition is True (or False) (will be covered later) (ex. statistical model refinement)\n",
    "<br />  \n",
    "\n",
    "<font color='blue' size=5>_**for**_</font> compound statement is used to apply some logic to each item in any _**iterable**_ (string, list, dictionaries etc.)\n",
    "<br />\n",
    "+ Basic structure:  \n",
    "```python\n",
    "    for item in iterable:  \n",
    "        <do_action(s)>\n",
    "```\n",
    "For ex.:\n",
    "```python\n",
    "    for gene in list_of_genes:\n",
    "        translate(gene)\n",
    "```\n",
    "+ Use **indentation** to delineate from rest of the code"
   ]
  },
  {
   "cell_type": "markdown",
   "metadata": {},
   "source": [
    "# <font color='blue'>*for* loop pattern 1</font>: Sequence scans\n",
    "\n",
    "+ Ex. Simple list traversal\n",
    "```python\n",
    "    vowels = ['a', 'e', 'i', 'o', 'u']\n",
    "    for vowel in vowels:\n",
    "        print(vowel)\n",
    "```\n",
    "\n",
    "+ Ex: Find sum and prod of a list of numbers\n",
    "```python\n",
    "    num_list = [1,2,3,4]\n",
    "```"
   ]
  },
  {
   "cell_type": "code",
   "execution_count": null,
   "metadata": {},
   "outputs": [],
   "source": []
  },
  {
   "cell_type": "markdown",
   "metadata": {},
   "source": [
    "# General process of loop construction\n",
    "+ <font color='blue'>_**Initialize**_</font> some variable(s) before the loop starts.\n",
    "+ <font color='blue'>_**Apply**_</font> some computation(s) for each item in the loop body, possibly changing the variables.\n",
    "+ <font color='blue'>_**Use**_</font> the results after the loop terminates.\n",
    "```python\n",
    "import math\n",
    "num_list = [1,2,3,4]          # Input\n",
    "sum_ = 0                      # Initialize\n",
    "prod = 1                     \n",
    "for num in num_list:          # Apply\n",
    "    sum_ = sum_ + num\n",
    "\tprod *= num                 # shorthand notation\n",
    "print(\"sum: \", sum_)          # Use\n",
    "print(\"prod: \", prod)\n",
    "print(\"AM: \", sum_/len(num_list))\n",
    "print(\"GM: \", math.pow(prod_, 1/len(num_list))\n",
    "```\n",
    "\n",
    "**Notes**:\n",
    "- num is called **iteration variable**\n",
    "- sum and prod are called **accumulator variables**"
   ]
  },
  {
   "cell_type": "code",
   "execution_count": null,
   "metadata": {},
   "outputs": [],
   "source": []
  },
  {
   "cell_type": "markdown",
   "metadata": {},
   "source": [
    "## Trace of a computation\n",
    "\n",
    "```\n",
    "------------------------------  \n",
    "  __________________\n",
    " | num  |sum_| prod |\n",
    " |______|____|______|\n",
    " |  _   | 0  |  1   | <-- Initialize\n",
    " |______|____|______|\n",
    " |  1   | 1  |  1   | <-- for loop begins\n",
    " |______|____|______|\n",
    " |  2   | 3  |  2   | \n",
    " |______|____|______|\n",
    " |  3   | 6  |  6   |\n",
    " |______|____|______|\n",
    " |  4   | 10 |  24  | <-- for loop ends\n",
    " |______|____|______|\n",
    "------------------------------\n",
    "\n",
    "```"
   ]
  },
  {
   "cell_type": "markdown",
   "metadata": {},
   "source": [
    "# <font color='blue'>*for* loop pattern 2</font>: range function\n",
    "+ Greater flexibility - access elements by index and reference rather in stead of direct access\n",
    "\n",
    "```\n",
    "------------------------------\n",
    "  ___________________________\n",
    " | Index| 0  | 1  | 2  | 3  |\n",
    " |______|____|___ |____|___ |\n",
    " | Data | 5  | 10 | 15 | 20 |\n",
    " |______|____|____|____|____|\n",
    "------------------------------\n",
    "\n",
    "```\n",
    "\n",
    "+ Built-in **range()** function returns a range object\n",
    "```python\n",
    "x = range(10)\n",
    "type(x)\n",
    "```\n",
    "\n",
    "- Lazy object\n",
    "- use list(x) to force-build the entire range"
   ]
  },
  {
   "cell_type": "code",
   "execution_count": null,
   "metadata": {},
   "outputs": [],
   "source": [
    "x = ['a','b','c']\n",
    "\n",
    "for idx in range(len(x)):\n",
    "    print(idx, x[idx])\n",
    "    \n",
    "\n"
   ]
  },
  {
   "cell_type": "markdown",
   "metadata": {},
   "source": [
    "```python\n",
    "# dot product of 2 vectors\n",
    "vector_1 = [1, 2, 3, 4]\n",
    "vector_2 = [5, 6, 7, 8]\n",
    "dot = 0.0\n",
    "for idx in range(len(vector_1)):\n",
    "    dot += vector_1[idx]*vector_2[idx]\n",
    "print(\"dot product of {} and {} is: {}\".format(vector_1, vector_2, dot))\n",
    "```"
   ]
  },
  {
   "cell_type": "code",
   "execution_count": null,
   "metadata": {},
   "outputs": [],
   "source": []
  },
  {
   "cell_type": "markdown",
   "metadata": {},
   "source": [
    "+ **Ex: build a list incrementally**\n",
    "\n",
    "+ Fibonacci numbers:\n",
    "    - 1, 1, 2, 3, 5, 8, 13, 21, ...\n",
    "    - F$_1$ = F$_2$=1\n",
    "    - F$_n$ = F$_n$$_-$$_1$ + F$_n$$_-$$_2$\n",
    "\n",
    "```python\n",
    "# Fibonacci\n",
    "n = 10\n",
    "z = [1]*2\t\t\t            \n",
    "for idx in range(2, n):\n",
    "    next = z[idx-1] + z[idx-2]    # Note: next is not a good variable name since it is a built-in function.\n",
    "                                  # Using it as a variable will mask the function\n",
    "    z.append(next)\n",
    "print(z)\n",
    "```\n"
   ]
  },
  {
   "cell_type": "code",
   "execution_count": null,
   "metadata": {},
   "outputs": [],
   "source": []
  },
  {
   "cell_type": "markdown",
   "metadata": {},
   "source": [
    "# Use built-in functionality as much as possible\n",
    "+ Less code\n",
    "+ More efficient\n",
    "\n",
    "\n",
    "```python\n",
    "# DIY\n",
    "num_list = [1,2,3,4]\n",
    "sum_ = 0\n",
    "for num in num_list:\n",
    "\tsum_ = sum_ + num\n",
    "print(“avg: ”, sum_/len(num_list))\n",
    "\n",
    "# built-in tools\n",
    "avg = sum(num_list)/len(num_list)\n",
    "```"
   ]
  },
  {
   "cell_type": "code",
   "execution_count": null,
   "metadata": {},
   "outputs": [],
   "source": []
  },
  {
   "cell_type": "markdown",
   "metadata": {},
   "source": [
    "## Nested Loops\n",
    "\n",
    "Putting a loop inside another loop.\n",
    "\n",
    "```python\n",
    "for j in range(5):\n",
    "    for i in range(2):\n",
    "        print(j, i)\n",
    "```\n",
    "\n",
    "The inner loop will be repeated for each iteration of the outer loop.\n",
    "\n",
    "You can calculate the number of times print will be called.\n",
    "+ Twice for each inner iteration\n",
    "+ The inner iteration is called 5 times\n",
    "+ The total number of prints: inner * outer = 10\n",
    "\n",
    "|||inner (i)|\n",
    "|--|--|\n",
    "||print(j, i)|print(j, i)|\n",
    "||0, 0|0, 1|\n",
    "||1, 0|1, 1|\n",
    "|**outer (j)**|2, 0|2, 1|\n",
    "||3, 0|3, 1|\n",
    "||4, 0|4, 1|"
   ]
  },
  {
   "cell_type": "markdown",
   "metadata": {},
   "source": [
    "#### Bubble Sort\n",
    "\n",
    "Pseudocode:\n",
    "```\n",
    "A: List of unsorted numbers\n",
    "n = length of A\n",
    "for j = 0 to n - 1\n",
    "  for i = 0 to n - 1\n",
    "    if  A[i + 1] < A[i]:\n",
    "      swap A[i + 1] and A[i]\n",
    "```\n",
    "\n",
    "About the bubble sort algorithm:\n",
    "+ It is one of the simplest sorting algorithms\n",
    "+ It is highly inefficient | **O(n<sup>2</sup>)**\n",
    "  + The O() is called Big O notation\n",
    "  + This is a measure of an algorithms worst case performance\n",
    "    + **O(1)** Constant Time: Number of elements does not change performance\n",
    "    + **O(log<sub>n</sub>)** Log Time: The algorithm never looks at all of the elements\n",
    "    + **O(n)** N time: The algorithm will look at each element once in the worst case \n",
    "    + ...\n",
    "    + **O(2<sup>n</sup>)** Exponential Time: You never want an algorithm with performance like this\n",
    "  + In this case, **O(n<sup>2</sup>)**, the algorithm will evaluate each number twice]\n",
    "  + This is due to the nested loops both iterating **n - 1** times\n",
    "+ This is called a destructive sort as the original list is sorted and the order before sorting is lost\n"
   ]
  },
  {
   "cell_type": "code",
   "execution_count": null,
   "metadata": {},
   "outputs": [],
   "source": [
    "import random\n",
    "# this selects 5 random numbers between 0 and 49\n",
    "number_list = random.sample(range(50), 15)\n",
    "print(number_list)"
   ]
  },
  {
   "cell_type": "code",
   "execution_count": null,
   "metadata": {},
   "outputs": [],
   "source": [
    "import random\n",
    "\n",
    "# Bubble Sort\n",
    "\n",
    "number_list = random.sample(range(50), 25)\n",
    "n = len(number_list)\n",
    "\n",
    "for j in range(n - 1):\n",
    "    for i in range(n - 1):\n",
    "        if number_list[i + 1] < number_list[i]:\n",
    "            tmp = number_list[i + 1]\n",
    "            number_list[i + 1] = number_list[i]\n",
    "            number_list [i] = tmp\n",
    "print(number_list)"
   ]
  },
  {
   "cell_type": "code",
   "execution_count": null,
   "metadata": {},
   "outputs": [],
   "source": [
    "import random\n",
    "\n",
    "def print_list(lst, row_idx, char):\n",
    "    result = ''\n",
    "    for idx, element in enumerate(lst):\n",
    "        result += '{:>3}  '.format(element)\n",
    "        if idx == row_idx:\n",
    "            result = result[:-2] + ' {}'.format(char)\n",
    "    print(' '*12, result)\n",
    "\n",
    "# Bubble Sort\n",
    "\n",
    "number_list = random.sample(range(50), 5)\n",
    "# number_list = [5, 4, 3, 2, 1]\n",
    "n = len(number_list)\n",
    "\n",
    "for j in range(n):\n",
    "    print('iteration{}'.format(j))\n",
    "    for i in range(n - 1):\n",
    "        if number_list[i + 1] < number_list[i]:\n",
    "            print_list(number_list, i, '↔')\n",
    "            tmp = number_list[i + 1]\n",
    "            number_list[i + 1] = number_list[i]\n",
    "            number_list [i] = tmp\n",
    "        else:\n",
    "            print_list(number_list, i, '<')\n",
    "            \n",
    "print('sorted:', number_list)"
   ]
  },
  {
   "cell_type": "markdown",
   "metadata": {},
   "source": [
    "### Practice"
   ]
  },
  {
   "cell_type": "code",
   "execution_count": null,
   "metadata": {},
   "outputs": [],
   "source": [
    "# Given a number 'n', build a string with that number of * characters in it and print it\n",
    "\n",
    "# EG:\n",
    "#    'n'   = 5\n",
    "#   result = '*****'\n",
    "\n",
    "# Psuedocode:\n",
    "# 1. get the number 'n' from the user (Assume that it will always be an int)\n",
    "# 2. create a variable to hold the result\n",
    "# 3. iterate 'n' times\n",
    "# 4.    add '*' to result\n",
    "# 5. print the result\n",
    "\n",
    "n = 5\n"
   ]
  },
  {
   "cell_type": "code",
   "execution_count": null,
   "metadata": {},
   "outputs": [],
   "source": [
    "# Given a number 'n', build a string using the index instead of the * characters\n",
    "\n",
    "# EG:\n",
    "#    'n'   = 5\n",
    "#   result = '01234'\n",
    "\n",
    "# Psuedocode:\n",
    "# 1. get the number 'n' from the user (Assume that it will always be an int)\n",
    "# 2. create a variable to hold the result\n",
    "# 3. iterate 'n' times\n",
    "# 4.    add index to result\n",
    "# 5. print the result\n",
    "\n",
    "n = 5\n"
   ]
  },
  {
   "cell_type": "code",
   "execution_count": null,
   "metadata": {},
   "outputs": [],
   "source": [
    "# Given a number 'n', create a n X n square of * characters\n",
    "\n",
    "# EG:\n",
    "#    'n'   | 5\n",
    "#   result | *****\n",
    "#          | *****\n",
    "#          | *****\n",
    "#          | *****\n",
    "#          | *****\n",
    "    \n",
    "\n",
    "# Psuedocode:\n",
    "# 1. get the number 'n' from the user (Assume that it will always be an int)\n",
    "# 2. iterate n times, once for each row\n",
    "# 3.   create a variable to hold the result for that row\n",
    "# 4.   iterate 'n' times, once for each column in the row\n",
    "# 5.     add '*' to result\n",
    "# 6.   print the result for that row\n",
    "\n",
    "n = 5\n"
   ]
  },
  {
   "cell_type": "code",
   "execution_count": null,
   "metadata": {},
   "outputs": [],
   "source": [
    "# Given a number 'n', create a n X n square of int characters representing the row\n",
    "\n",
    "# EG:\n",
    "#    'n'   | 5\n",
    "#   result | 00000\n",
    "#          | 11111\n",
    "#          | 22222\n",
    "#          | 33333\n",
    "#          | 44444\n",
    "    \n",
    "\n",
    "# Psuedocode:\n",
    "# 1. get the number 'n' from the user (Assume that it will always be an int)\n",
    "# 2. iterate n times, once for each row\n",
    "# 3.   create a variable to hold the result for that row\n",
    "# 4.   iterate 'n' times, once for each column in the row\n",
    "# 5.     add row_index to result\n",
    "# 6.   print the result for that row\n",
    "\n",
    "n = 5\n"
   ]
  },
  {
   "cell_type": "code",
   "execution_count": null,
   "metadata": {},
   "outputs": [],
   "source": [
    "# Given a number 'n', create a n X n square of int characters representing the column\n",
    "\n",
    "# EG:\n",
    "#    'n'   | 5\n",
    "#   result | 01234\n",
    "#          | 01234\n",
    "#          | 01234\n",
    "#          | 01234\n",
    "#          | 01234\n",
    "    \n",
    "\n",
    "# Psuedocode:\n",
    "# 1. get the number 'n' from the user (Assume that it will always be an int)\n",
    "# 2. iterate n times, once for each row\n",
    "# 3.   create a variable to hold the result for that row\n",
    "# 4.   iterate 'n' times, once for each column in the row\n",
    "# 5.     add col_index to result\n",
    "# 6.   print the result for that row\n",
    "\n",
    "n = 5\n"
   ]
  },
  {
   "cell_type": "code",
   "execution_count": null,
   "metadata": {},
   "outputs": [],
   "source": [
    "# Given a number 'n', create a n X n square of int characters representing the cumulative total\n",
    "\n",
    "# It helps to use formatting for this example as the numbers are not all going to be a single character\n",
    "\n",
    "# '{:>3}'.format(int) will pad the integer with blank spaces so that the total length is 3 in this case\n",
    "    # '  1' : single characters will have two blank spaces in front\n",
    "    # ' 12' : double characters will have a single blank space\n",
    "    # '132' : triple characters will have no blank spaces\n",
    "    \n",
    "    # the direction of the 'arrow' indicates which side to align the characters\n",
    "    # > : align to the right\n",
    "    # ^ : align to the center\n",
    "    # < : align to the right\n",
    "    \n",
    "    # We will cover this in more detail in a few lectures time\n",
    "\n",
    "# EG:\n",
    "#    'n'   | 5\n",
    "#   result |  0  1  2  3  4\n",
    "#          |  5  6  7  8  9\n",
    "#          | 10 11 12 13 14\n",
    "#          | 15 16 17 18 19\n",
    "#          | 20 21 22 23 24\n",
    "    \n",
    "\n",
    "# Psuedocode:\n",
    "# 1. get the number 'n' from the user (Assume that it will always be an int)\n",
    "# 2. iterate n times, once for each row\n",
    "# 3.   create a variable to hold the result for that row\n",
    "# 4.   iterate 'n' times, once for each column in the row\n",
    "# 5.     add row_index * n + col_index to result\n",
    "# 6.   print the result for that row\n",
    "\n",
    "n = 5\n"
   ]
  },
  {
   "cell_type": "markdown",
   "metadata": {},
   "source": [
    "# Next class:\n",
    "+ Dictionaries\n",
    "+ sets, tuples\n",
    "+ while loops\n",
    "+ break and continue statements"
   ]
  },
  {
   "cell_type": "code",
   "execution_count": null,
   "metadata": {},
   "outputs": [],
   "source": []
  }
 ],
 "metadata": {
  "anaconda-cloud": {},
  "kernelspec": {
   "display_name": "Python 3",
   "language": "python",
   "name": "python3"
  },
  "language_info": {
   "codemirror_mode": {
    "name": "ipython",
    "version": 3
   },
   "file_extension": ".py",
   "mimetype": "text/x-python",
   "name": "python",
   "nbconvert_exporter": "python",
   "pygments_lexer": "ipython3",
   "version": "3.6.6"
  }
 },
 "nbformat": 4,
 "nbformat_minor": 1
}
